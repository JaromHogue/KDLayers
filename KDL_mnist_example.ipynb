{
  "cells": [
    {
      "cell_type": "code",
      "execution_count": 1,
      "metadata": {
        "colab": {
          "base_uri": "https://localhost:8080/"
        },
        "id": "-IFxY3qXdBv6",
        "outputId": "b8496410-dd82-40c1-c10f-842bb4c8c34c"
      },
      "outputs": [
        {
          "output_type": "stream",
          "name": "stdout",
          "text": [
            "2.9.2\n"
          ]
        }
      ],
      "source": [
        "import tensorflow as tf  \n",
        " \n",
        "# Display the version\n",
        "print(tf.__version__)    \n",
        " \n",
        "# other imports\n",
        "import numpy as np\n",
        "import matplotlib.pyplot as plt\n",
        "from tensorflow.keras.layers import Input, Conv2D, Dense, Flatten, Dropout\n",
        "from tensorflow.keras.layers import GlobalMaxPooling2D, MaxPooling2D\n",
        "from tensorflow.keras.layers import BatchNormalization, Reshape, Add\n",
        "from tensorflow.keras.layers import Layer, Softmax, ReLU, Permute, Activation\n",
        "from tensorflow.keras.models import Model"
      ]
    },
    {
      "cell_type": "code",
      "execution_count": 2,
      "metadata": {
        "id": "QDozc7FAdBv8"
      },
      "outputs": [],
      "source": [
        "class KDRightLayer(Layer):\n",
        "  def __init__(self,n,activation=None):\n",
        "    super(KDRightLayer, self).__init__()\n",
        "    self.n = n\n",
        "    self.activation = tf.keras.activations.get(activation)\n",
        "\n",
        "  def build(self, input_shape):\n",
        "    self.q = input_shape[1]\n",
        "    self.m = input_shape[2]\n",
        "    # initialize the weights\n",
        "    w_init = tf.random_normal_initializer()\n",
        "    self.w = tf.Variable(name=\"kernel\", initial_value=w_init(shape=(self.m, self.n),\n",
        "                         dtype='float32'),trainable=True)\n",
        "\n",
        "    # initialize the biases\n",
        "    b_init = tf.zeros_initializer()\n",
        "    self.b = tf.Variable(name=\"bias\",initial_value=b_init(shape=(self.q,self.n), dtype='float32'),\n",
        "                         trainable=True)\n",
        "\n",
        "  def call(self, inputs):\n",
        "    return self.activation(tf.matmul(inputs, self.w) + self.b)"
      ]
    },
    {
      "cell_type": "code",
      "execution_count": 3,
      "metadata": {
        "id": "KnQ6cVQldBv9"
      },
      "outputs": [],
      "source": [
        "class KDLeftLayer(Layer):\n",
        "  def __init__(self, m,activation=None):\n",
        "    super(KDLeftLayer, self).__init__()\n",
        "    self.m = m\n",
        "    self.activation = tf.keras.activations.get(activation)\n",
        "\n",
        "  def build(self, input_shape):\n",
        "    self.n = input_shape[1]\n",
        "    self.p = input_shape[2]\n",
        "    # initialize the weights\n",
        "    w_init = tf.random_normal_initializer()\n",
        "    #self.w = tf.Variable(name=\"kernel\", initial_value=w_init(shape=(self.m, self.n),\n",
        "    #                                                         dtype='float32'),trainable=True)\n",
        "    self.w = self.add_weight(\"kernel\", shape=[self.m, self.n])\n",
        "    # initialize the biases\n",
        "    b_init = tf.zeros_initializer()\n",
        "    self.b = tf.Variable(name=\"bias\",initial_value=b_init(shape=(self.m,self.p), \n",
        "                                                          dtype='float32'),trainable=True)\n",
        "\n",
        "  def call(self, inputs):\n",
        "    #return self.activation(tf.matmul(self.w,inputs) + self.b)\n",
        "    return self.activation(tf.transpose(tf.matmul(tf.transpose(inputs,perm=[0, 2, 1]),tf.transpose(self.w)),perm=[0, 2, 1]) + self.b)"
      ]
    },
    {
      "cell_type": "code",
      "execution_count": 4,
      "metadata": {
        "id": "HPoNw_AldBv9"
      },
      "outputs": [],
      "source": [
        "# Load MNIST\n",
        "mnist = tf.keras.datasets.mnist\n",
        "\n",
        "(x_train, y_train),(x_test, y_test) = mnist.load_data()\n",
        "x_train, x_test = x_train / 255.0, x_test / 255.0"
      ]
    },
    {
      "cell_type": "code",
      "execution_count": 5,
      "metadata": {
        "colab": {
          "base_uri": "https://localhost:8080/"
        },
        "id": "JAwWDAqwdBv-",
        "outputId": "93e79d90-ae8e-479f-beba-7e12a1b73ade"
      },
      "outputs": [
        {
          "output_type": "stream",
          "name": "stdout",
          "text": [
            "Model: \"model\"\n",
            "_________________________________________________________________\n",
            " Layer (type)                Output Shape              Param #   \n",
            "=================================================================\n",
            " input_1 (InputLayer)        [(None, 28, 28)]          0         \n",
            "                                                                 \n",
            " kd_left_layer (KDLeftLayer)  (None, 28, 28)           1568      \n",
            "                                                                 \n",
            " kd_right_layer (KDRightLaye  (None, 28, 28)           1568      \n",
            " r)                                                              \n",
            "                                                                 \n",
            " kd_left_layer_1 (KDLeftLaye  (None, 28, 28)           1568      \n",
            " r)                                                              \n",
            "                                                                 \n",
            " kd_right_layer_1 (KDRightLa  (None, 28, 28)           1568      \n",
            " yer)                                                            \n",
            "                                                                 \n",
            " kd_left_layer_2 (KDLeftLaye  (None, 2, 28)            112       \n",
            " r)                                                              \n",
            "                                                                 \n",
            " kd_right_layer_2 (KDRightLa  (None, 2, 5)             150       \n",
            " yer)                                                            \n",
            "                                                                 \n",
            " reshape (Reshape)           (None, 10)                0         \n",
            "                                                                 \n",
            " softmax (Softmax)           (None, 10)                0         \n",
            "                                                                 \n",
            "=================================================================\n",
            "Total params: 6,534\n",
            "Trainable params: 6,534\n",
            "Non-trainable params: 0\n",
            "_________________________________________________________________\n"
          ]
        }
      ],
      "source": [
        "# Build the KDL model\n",
        "# input layer\n",
        "i = Input(shape=x_train[0].shape)\n",
        " \n",
        "# KDL layer pairs\n",
        "x = KDLeftLayer(28, activation='tanh')(i)\n",
        "x = KDRightLayer(28, activation='tanh')(x)\n",
        "\n",
        "x = KDLeftLayer(28, activation='tanh')(x)\n",
        "x = KDRightLayer(28, activation='tanh')(x)\n",
        " \n",
        "x = KDLeftLayer(2, activation='tanh')(x)\n",
        "x = KDRightLayer(5)(x)\n",
        "\n",
        "# Reshape for output\n",
        "x = Reshape((10,))(x)\n",
        "x = Softmax()(x)\n",
        "\n",
        "# Build the model\n",
        "model = Model(i, x)\n",
        " \n",
        "# model summary\n",
        "model.summary()"
      ]
    },
    {
      "cell_type": "code",
      "execution_count": 6,
      "metadata": {
        "id": "iKlqSIBBdBv_"
      },
      "outputs": [],
      "source": [
        "# Compile\n",
        "model.compile(optimizer=tf.keras.optimizers.SGD(learning_rate=5e-2),\n",
        "              loss='sparse_categorical_crossentropy',\n",
        "              metrics=['accuracy'])"
      ]
    },
    {
      "cell_type": "code",
      "execution_count": 7,
      "metadata": {
        "colab": {
          "base_uri": "https://localhost:8080/"
        },
        "id": "ho2xg3MedBv_",
        "outputId": "4b1249a9-3c71-42e6-83fa-56f345885efb"
      },
      "outputs": [
        {
          "output_type": "stream",
          "name": "stdout",
          "text": [
            "Epoch 1/20\n",
            "469/469 [==============================] - 18s 33ms/step - loss: 1.9599 - accuracy: 0.2903 - val_loss: 1.5299 - val_accuracy: 0.4371\n",
            "Epoch 2/20\n",
            "469/469 [==============================] - 8s 17ms/step - loss: 1.3426 - accuracy: 0.5370 - val_loss: 1.1105 - val_accuracy: 0.6371\n",
            "Epoch 3/20\n",
            "469/469 [==============================] - 8s 16ms/step - loss: 0.9408 - accuracy: 0.7071 - val_loss: 0.7604 - val_accuracy: 0.7773\n",
            "Epoch 4/20\n",
            "469/469 [==============================] - 7s 16ms/step - loss: 0.6307 - accuracy: 0.8134 - val_loss: 0.5132 - val_accuracy: 0.8476\n",
            "Epoch 5/20\n",
            "469/469 [==============================] - 8s 17ms/step - loss: 0.4561 - accuracy: 0.8684 - val_loss: 0.3978 - val_accuracy: 0.8843\n",
            "Epoch 6/20\n",
            "469/469 [==============================] - 8s 16ms/step - loss: 0.3666 - accuracy: 0.8940 - val_loss: 0.3393 - val_accuracy: 0.8969\n",
            "Epoch 7/20\n",
            "469/469 [==============================] - 8s 16ms/step - loss: 0.3101 - accuracy: 0.9104 - val_loss: 0.2818 - val_accuracy: 0.9148\n",
            "Epoch 8/20\n",
            "469/469 [==============================] - 8s 17ms/step - loss: 0.2705 - accuracy: 0.9215 - val_loss: 0.2467 - val_accuracy: 0.9267\n",
            "Epoch 9/20\n",
            "469/469 [==============================] - 8s 16ms/step - loss: 0.2405 - accuracy: 0.9291 - val_loss: 0.2168 - val_accuracy: 0.9335\n",
            "Epoch 10/20\n",
            "469/469 [==============================] - 8s 17ms/step - loss: 0.2156 - accuracy: 0.9368 - val_loss: 0.2027 - val_accuracy: 0.9400\n",
            "Epoch 11/20\n",
            "469/469 [==============================] - 8s 17ms/step - loss: 0.1974 - accuracy: 0.9413 - val_loss: 0.1966 - val_accuracy: 0.9383\n",
            "Epoch 12/20\n",
            "469/469 [==============================] - 8s 16ms/step - loss: 0.1824 - accuracy: 0.9458 - val_loss: 0.1764 - val_accuracy: 0.9476\n",
            "Epoch 13/20\n",
            "469/469 [==============================] - 8s 17ms/step - loss: 0.1697 - accuracy: 0.9482 - val_loss: 0.1699 - val_accuracy: 0.9494\n",
            "Epoch 14/20\n",
            "469/469 [==============================] - 8s 17ms/step - loss: 0.1589 - accuracy: 0.9523 - val_loss: 0.1621 - val_accuracy: 0.9513\n",
            "Epoch 15/20\n",
            "469/469 [==============================] - 8s 18ms/step - loss: 0.1488 - accuracy: 0.9550 - val_loss: 0.1927 - val_accuracy: 0.9401\n",
            "Epoch 16/20\n",
            "469/469 [==============================] - 8s 17ms/step - loss: 0.1422 - accuracy: 0.9577 - val_loss: 0.1471 - val_accuracy: 0.9552\n",
            "Epoch 17/20\n",
            "469/469 [==============================] - 9s 19ms/step - loss: 0.1359 - accuracy: 0.9595 - val_loss: 0.1477 - val_accuracy: 0.9546\n",
            "Epoch 18/20\n",
            "469/469 [==============================] - 8s 17ms/step - loss: 0.1303 - accuracy: 0.9610 - val_loss: 0.1418 - val_accuracy: 0.9585\n",
            "Epoch 19/20\n",
            "469/469 [==============================] - 8s 17ms/step - loss: 0.1257 - accuracy: 0.9620 - val_loss: 0.1368 - val_accuracy: 0.9568\n",
            "Epoch 20/20\n",
            "469/469 [==============================] - 8s 17ms/step - loss: 0.1207 - accuracy: 0.9636 - val_loss: 0.1346 - val_accuracy: 0.9586\n"
          ]
        }
      ],
      "source": [
        "hist_KDL = model.fit(\n",
        "  x_train, y_train, batch_size=128, validation_data=(x_test, y_test), epochs=20)"
      ]
    },
    {
      "cell_type": "code",
      "execution_count": 8,
      "metadata": {
        "colab": {
          "base_uri": "https://localhost:8080/",
          "height": 365
        },
        "id": "POnnkGnFdBv_",
        "outputId": "5816ffcb-1f9c-42d0-c055-e4790c966c4e"
      },
      "outputs": [
        {
          "output_type": "execute_result",
          "data": {
            "text/plain": [
              "<matplotlib.legend.Legend at 0x7f75a6a6b850>"
            ]
          },
          "metadata": {},
          "execution_count": 8
        },
        {
          "output_type": "display_data",
          "data": {
            "text/plain": [
              "<Figure size 576x396 with 1 Axes>"
            ],
            "image/png": "[encoded data removed]"
          },
          "metadata": {}
        }
      ],
      "source": [
        "# Plot training and test accuracy\n",
        "plt.style.use('seaborn')\n",
        "plt.plot(hist_KDL.history['accuracy'], label='train_acc', color='C0')\n",
        "plt.plot(hist_KDL.history['val_accuracy'], label='test_acc', color='C1')\n",
        "plt.legend()"
      ]
    },
    {
      "cell_type": "code",
      "source": [
        "# Build the dense model\n",
        "# input layer\n",
        "i = Input(shape=x_train[0].shape)\n",
        "x = Flatten()(i)\n",
        " \n",
        "# Hidden layers\n",
        "x = Dense(784, activation='tanh')(x)\n",
        "\n",
        "x = Dense(784, activation='tanh')(x)\n",
        " \n",
        "x = Dense(10, activation='softmax')(x)\n",
        "\n",
        "# Build the model\n",
        "model = Model(i, x)\n",
        " \n",
        "# model summary\n",
        "model.summary()"
      ],
      "metadata": {
        "colab": {
          "base_uri": "https://localhost:8080/"
        },
        "id": "L6wr2mO_G0zo",
        "outputId": "28294dc6-c35f-4fc9-9b81-100fed90f3e1"
      },
      "execution_count": 9,
      "outputs": [
        {
          "output_type": "stream",
          "name": "stdout",
          "text": [
            "Model: \"model_1\"\n",
            "_________________________________________________________________\n",
            " Layer (type)                Output Shape              Param #   \n",
            "=================================================================\n",
            " input_2 (InputLayer)        [(None, 28, 28)]          0         \n",
            "                                                                 \n",
            " flatten (Flatten)           (None, 784)               0         \n",
            "                                                                 \n",
            " dense (Dense)               (None, 784)               615440    \n",
            "                                                                 \n",
            " dense_1 (Dense)             (None, 784)               615440    \n",
            "                                                                 \n",
            " dense_2 (Dense)             (None, 10)                7850      \n",
            "                                                                 \n",
            "=================================================================\n",
            "Total params: 1,238,730\n",
            "Trainable params: 1,238,730\n",
            "Non-trainable params: 0\n",
            "_________________________________________________________________\n"
          ]
        }
      ]
    },
    {
      "cell_type": "code",
      "source": [
        "# Compile\n",
        "model.compile(optimizer=tf.keras.optimizers.SGD(learning_rate=1e-2),\n",
        "              loss='sparse_categorical_crossentropy',metrics=['accuracy'])"
      ],
      "metadata": {
        "id": "5IjydRJpG2jI"
      },
      "execution_count": 10,
      "outputs": []
    },
    {
      "cell_type": "code",
      "source": [
        "hist_dense = model.fit(\n",
        "  x_train, y_train, batch_size=128, validation_data=(x_test, y_test), epochs=20)"
      ],
      "metadata": {
        "colab": {
          "base_uri": "https://localhost:8080/"
        },
        "id": "jI9V7CRdG-VF",
        "outputId": "997bddb8-08e8-4c86-9a9f-394329834038"
      },
      "execution_count": 11,
      "outputs": [
        {
          "output_type": "stream",
          "name": "stdout",
          "text": [
            "Epoch 1/20\n",
            "469/469 [==============================] - 13s 27ms/step - loss: 0.7528 - accuracy: 0.8220 - val_loss: 0.4371 - val_accuracy: 0.8848\n",
            "Epoch 2/20\n",
            "469/469 [==============================] - 12s 26ms/step - loss: 0.4088 - accuracy: 0.8883 - val_loss: 0.3573 - val_accuracy: 0.9021\n",
            "Epoch 3/20\n",
            "469/469 [==============================] - 13s 27ms/step - loss: 0.3572 - accuracy: 0.8993 - val_loss: 0.3271 - val_accuracy: 0.9085\n",
            "Epoch 4/20\n",
            "469/469 [==============================] - 13s 27ms/step - loss: 0.3320 - accuracy: 0.9058 - val_loss: 0.3105 - val_accuracy: 0.9144\n",
            "Epoch 5/20\n",
            "469/469 [==============================] - 14s 29ms/step - loss: 0.3161 - accuracy: 0.9101 - val_loss: 0.2991 - val_accuracy: 0.9140\n",
            "Epoch 6/20\n",
            "469/469 [==============================] - 12s 26ms/step - loss: 0.3046 - accuracy: 0.9130 - val_loss: 0.2890 - val_accuracy: 0.9173\n",
            "Epoch 7/20\n",
            "469/469 [==============================] - 13s 28ms/step - loss: 0.2956 - accuracy: 0.9160 - val_loss: 0.2823 - val_accuracy: 0.9186\n",
            "Epoch 8/20\n",
            "469/469 [==============================] - 13s 28ms/step - loss: 0.2879 - accuracy: 0.9184 - val_loss: 0.2777 - val_accuracy: 0.9210\n",
            "Epoch 9/20\n",
            "469/469 [==============================] - 13s 27ms/step - loss: 0.2816 - accuracy: 0.9199 - val_loss: 0.2716 - val_accuracy: 0.9233\n",
            "Epoch 10/20\n",
            "469/469 [==============================] - 15s 32ms/step - loss: 0.2755 - accuracy: 0.9219 - val_loss: 0.2686 - val_accuracy: 0.9244\n",
            "Epoch 11/20\n",
            "469/469 [==============================] - 14s 29ms/step - loss: 0.2701 - accuracy: 0.9233 - val_loss: 0.2632 - val_accuracy: 0.9257\n",
            "Epoch 12/20\n",
            "469/469 [==============================] - 13s 27ms/step - loss: 0.2651 - accuracy: 0.9247 - val_loss: 0.2591 - val_accuracy: 0.9279\n",
            "Epoch 13/20\n",
            "469/469 [==============================] - 13s 28ms/step - loss: 0.2604 - accuracy: 0.9267 - val_loss: 0.2558 - val_accuracy: 0.9282\n",
            "Epoch 14/20\n",
            "469/469 [==============================] - 13s 27ms/step - loss: 0.2558 - accuracy: 0.9278 - val_loss: 0.2513 - val_accuracy: 0.9290\n",
            "Epoch 15/20\n",
            "469/469 [==============================] - 12s 27ms/step - loss: 0.2512 - accuracy: 0.9291 - val_loss: 0.2476 - val_accuracy: 0.9298\n",
            "Epoch 16/20\n",
            "469/469 [==============================] - 12s 26ms/step - loss: 0.2468 - accuracy: 0.9303 - val_loss: 0.2452 - val_accuracy: 0.9299\n",
            "Epoch 17/20\n",
            "469/469 [==============================] - 12s 26ms/step - loss: 0.2424 - accuracy: 0.9320 - val_loss: 0.2407 - val_accuracy: 0.9317\n",
            "Epoch 18/20\n",
            "469/469 [==============================] - 14s 29ms/step - loss: 0.2381 - accuracy: 0.9330 - val_loss: 0.2364 - val_accuracy: 0.9330\n",
            "Epoch 19/20\n",
            "469/469 [==============================] - 13s 28ms/step - loss: 0.2338 - accuracy: 0.9344 - val_loss: 0.2317 - val_accuracy: 0.9340\n",
            "Epoch 20/20\n",
            "469/469 [==============================] - 12s 26ms/step - loss: 0.2295 - accuracy: 0.9355 - val_loss: 0.2281 - val_accuracy: 0.9351\n"
          ]
        }
      ]
    },
    {
      "cell_type": "code",
      "source": [
        "# Plot training and test accuracy\n",
        "plt.plot(hist_dense.history['accuracy'], label='train_acc', color='C2')\n",
        "plt.plot(hist_dense.history['val_accuracy'], label='test_acc', color='C3')\n",
        "plt.legend()"
      ],
      "metadata": {
        "colab": {
          "base_uri": "https://localhost:8080/",
          "height": 366
        },
        "id": "0L-o3L86HCZG",
        "outputId": "91500994-e71a-47ac-f120-534e6fb7c0d5"
      },
      "execution_count": 12,
      "outputs": [
        {
          "output_type": "execute_result",
          "data": {
            "text/plain": [
              "<matplotlib.legend.Legend at 0x7f75a7c54710>"
            ]
          },
          "metadata": {},
          "execution_count": 12
        },
        {
          "output_type": "display_data",
          "data": {
            "text/plain": [
              "<Figure size 576x396 with 1 Axes>"
            ],
            "image/png": "[encoded data removed]"
          },
          "metadata": {}
        }
      ]
    },
    {
      "cell_type": "code",
      "source": [
        "# Build a KDL model with Kronecker rank 2\n",
        "# input layer\n",
        "i = Input(shape=x_train[0].shape)\n",
        "\n",
        "# Hidden layer pairs\n",
        "x1 = KDLeftLayer(28, activation='tanh')(i)\n",
        "x1 = KDRightLayer(28)(x1)\n",
        "\n",
        "x2 = KDLeftLayer(28, activation='tanh')(i)\n",
        "x2 = KDRightLayer(28)(x2)\n",
        "\n",
        "# Combine Result\n",
        "x = Add()([x1,x2])\n",
        "x = Activation('tanh')(x)\n",
        "\n",
        "# Another set of layer pairs\n",
        "x1 = KDLeftLayer(28, activation='tanh')(x)\n",
        "x1 = KDRightLayer(28)(x1)\n",
        "\n",
        "x2 = KDLeftLayer(28, activation='tanh')(x)\n",
        "x2 = KDRightLayer(28)(x2)\n",
        "\n",
        "x = Add()([x1,x2])\n",
        "x = Activation('tanh')(x)\n",
        "\n",
        "# Final set of Layer pairs\n",
        "x1 = KDLeftLayer(2, activation='tanh')(x)\n",
        "x1 = KDRightLayer(5)(x1)\n",
        "\n",
        "x2 = KDLeftLayer(2, activation='tanh')(x)\n",
        "x2 = KDRightLayer(5)(x2)\n",
        "\n",
        "x = Add()([x1,x2])\n",
        "\n",
        "# Reshape for output\n",
        "x = Reshape((10,))(x)\n",
        "x = Softmax()(x)\n",
        "model = Model(i, x)\n",
        " \n",
        "# model summary\n",
        "model.summary()"
      ],
      "metadata": {
        "colab": {
          "base_uri": "https://localhost:8080/"
        },
        "id": "XFyZEtU3kGPg",
        "outputId": "753df046-98ea-463e-c12c-34ba60749329"
      },
      "execution_count": 13,
      "outputs": [
        {
          "output_type": "stream",
          "name": "stdout",
          "text": [
            "Model: \"model_2\"\n",
            "__________________________________________________________________________________________________\n",
            " Layer (type)                   Output Shape         Param #     Connected to                     \n",
            "==================================================================================================\n",
            " input_3 (InputLayer)           [(None, 28, 28)]     0           []                               \n",
            "                                                                                                  \n",
            " kd_left_layer_3 (KDLeftLayer)  (None, 28, 28)       1568        ['input_3[0][0]']                \n",
            "                                                                                                  \n",
            " kd_left_layer_4 (KDLeftLayer)  (None, 28, 28)       1568        ['input_3[0][0]']                \n",
            "                                                                                                  \n",
            " kd_right_layer_3 (KDRightLayer  (None, 28, 28)      1568        ['kd_left_layer_3[0][0]']        \n",
            " )                                                                                                \n",
            "                                                                                                  \n",
            " kd_right_layer_4 (KDRightLayer  (None, 28, 28)      1568        ['kd_left_layer_4[0][0]']        \n",
            " )                                                                                                \n",
            "                                                                                                  \n",
            " add (Add)                      (None, 28, 28)       0           ['kd_right_layer_3[0][0]',       \n",
            "                                                                  'kd_right_layer_4[0][0]']       \n",
            "                                                                                                  \n",
            " activation (Activation)        (None, 28, 28)       0           ['add[0][0]']                    \n",
            "                                                                                                  \n",
            " kd_left_layer_5 (KDLeftLayer)  (None, 28, 28)       1568        ['activation[0][0]']             \n",
            "                                                                                                  \n",
            " kd_left_layer_6 (KDLeftLayer)  (None, 28, 28)       1568        ['activation[0][0]']             \n",
            "                                                                                                  \n",
            " kd_right_layer_5 (KDRightLayer  (None, 28, 28)      1568        ['kd_left_layer_5[0][0]']        \n",
            " )                                                                                                \n",
            "                                                                                                  \n",
            " kd_right_layer_6 (KDRightLayer  (None, 28, 28)      1568        ['kd_left_layer_6[0][0]']        \n",
            " )                                                                                                \n",
            "                                                                                                  \n",
            " add_1 (Add)                    (None, 28, 28)       0           ['kd_right_layer_5[0][0]',       \n",
            "                                                                  'kd_right_layer_6[0][0]']       \n",
            "                                                                                                  \n",
            " activation_1 (Activation)      (None, 28, 28)       0           ['add_1[0][0]']                  \n",
            "                                                                                                  \n",
            " kd_left_layer_7 (KDLeftLayer)  (None, 2, 28)        112         ['activation_1[0][0]']           \n",
            "                                                                                                  \n",
            " kd_left_layer_8 (KDLeftLayer)  (None, 2, 28)        112         ['activation_1[0][0]']           \n",
            "                                                                                                  \n",
            " kd_right_layer_7 (KDRightLayer  (None, 2, 5)        150         ['kd_left_layer_7[0][0]']        \n",
            " )                                                                                                \n",
            "                                                                                                  \n",
            " kd_right_layer_8 (KDRightLayer  (None, 2, 5)        150         ['kd_left_layer_8[0][0]']        \n",
            " )                                                                                                \n",
            "                                                                                                  \n",
            " add_2 (Add)                    (None, 2, 5)         0           ['kd_right_layer_7[0][0]',       \n",
            "                                                                  'kd_right_layer_8[0][0]']       \n",
            "                                                                                                  \n",
            " reshape_1 (Reshape)            (None, 10)           0           ['add_2[0][0]']                  \n",
            "                                                                                                  \n",
            " softmax_1 (Softmax)            (None, 10)           0           ['reshape_1[0][0]']              \n",
            "                                                                                                  \n",
            "==================================================================================================\n",
            "Total params: 13,068\n",
            "Trainable params: 13,068\n",
            "Non-trainable params: 0\n",
            "__________________________________________________________________________________________________\n"
          ]
        }
      ]
    },
    {
      "cell_type": "code",
      "source": [
        "# Compile\n",
        "model.compile(optimizer=tf.keras.optimizers.SGD(learning_rate=5e-2),\n",
        "              loss='sparse_categorical_crossentropy',\n",
        "              metrics=['accuracy'])"
      ],
      "metadata": {
        "id": "LXAoCasVl33I"
      },
      "execution_count": 14,
      "outputs": []
    },
    {
      "cell_type": "code",
      "source": [
        "hist_KDL2 = model.fit(\n",
        "  x_train, y_train, batch_size=128, validation_data=(x_test, y_test), epochs=20)"
      ],
      "metadata": {
        "colab": {
          "base_uri": "https://localhost:8080/"
        },
        "id": "SQUPfSC2l5D0",
        "outputId": "070ef590-91f4-4080-a75a-37945508f877"
      },
      "execution_count": 15,
      "outputs": [
        {
          "output_type": "stream",
          "name": "stdout",
          "text": [
            "Epoch 1/20\n",
            "469/469 [==============================] - 14s 26ms/step - loss: 1.3761 - accuracy: 0.5860 - val_loss: 0.5058 - val_accuracy: 0.8485\n",
            "Epoch 2/20\n",
            "469/469 [==============================] - 12s 25ms/step - loss: 0.4314 - accuracy: 0.8734 - val_loss: 0.3481 - val_accuracy: 0.8989\n",
            "Epoch 3/20\n",
            "469/469 [==============================] - 12s 25ms/step - loss: 0.3316 - accuracy: 0.9040 - val_loss: 0.2843 - val_accuracy: 0.9189\n",
            "Epoch 4/20\n",
            "469/469 [==============================] - 12s 26ms/step - loss: 0.2779 - accuracy: 0.9182 - val_loss: 0.2424 - val_accuracy: 0.9303\n",
            "Epoch 5/20\n",
            "469/469 [==============================] - 12s 25ms/step - loss: 0.2423 - accuracy: 0.9286 - val_loss: 0.2140 - val_accuracy: 0.9393\n",
            "Epoch 6/20\n",
            "469/469 [==============================] - 12s 26ms/step - loss: 0.2178 - accuracy: 0.9355 - val_loss: 0.1978 - val_accuracy: 0.9431\n",
            "Epoch 7/20\n",
            "469/469 [==============================] - 12s 25ms/step - loss: 0.1987 - accuracy: 0.9415 - val_loss: 0.1822 - val_accuracy: 0.9463\n",
            "Epoch 8/20\n",
            "469/469 [==============================] - 12s 25ms/step - loss: 0.1831 - accuracy: 0.9462 - val_loss: 0.1774 - val_accuracy: 0.9475\n",
            "Epoch 9/20\n",
            "469/469 [==============================] - 14s 29ms/step - loss: 0.1702 - accuracy: 0.9498 - val_loss: 0.1578 - val_accuracy: 0.9543\n",
            "Epoch 10/20\n",
            "469/469 [==============================] - 12s 26ms/step - loss: 0.1584 - accuracy: 0.9532 - val_loss: 0.1529 - val_accuracy: 0.9556\n",
            "Epoch 11/20\n",
            "469/469 [==============================] - 12s 25ms/step - loss: 0.1483 - accuracy: 0.9565 - val_loss: 0.1459 - val_accuracy: 0.9563\n",
            "Epoch 12/20\n",
            "469/469 [==============================] - 14s 30ms/step - loss: 0.1400 - accuracy: 0.9581 - val_loss: 0.1384 - val_accuracy: 0.9568\n",
            "Epoch 13/20\n",
            "469/469 [==============================] - 12s 26ms/step - loss: 0.1316 - accuracy: 0.9614 - val_loss: 0.1295 - val_accuracy: 0.9610\n",
            "Epoch 14/20\n",
            "469/469 [==============================] - 13s 27ms/step - loss: 0.1246 - accuracy: 0.9630 - val_loss: 0.1297 - val_accuracy: 0.9610\n",
            "Epoch 15/20\n",
            "469/469 [==============================] - 13s 28ms/step - loss: 0.1183 - accuracy: 0.9650 - val_loss: 0.1227 - val_accuracy: 0.9630\n",
            "Epoch 16/20\n",
            "469/469 [==============================] - 13s 28ms/step - loss: 0.1120 - accuracy: 0.9669 - val_loss: 0.1290 - val_accuracy: 0.9612\n",
            "Epoch 17/20\n",
            "469/469 [==============================] - 12s 26ms/step - loss: 0.1068 - accuracy: 0.9683 - val_loss: 0.1146 - val_accuracy: 0.9652\n",
            "Epoch 18/20\n",
            "469/469 [==============================] - 12s 26ms/step - loss: 0.1020 - accuracy: 0.9696 - val_loss: 0.1144 - val_accuracy: 0.9639\n",
            "Epoch 19/20\n",
            "469/469 [==============================] - 12s 26ms/step - loss: 0.0976 - accuracy: 0.9712 - val_loss: 0.1087 - val_accuracy: 0.9679\n",
            "Epoch 20/20\n",
            "469/469 [==============================] - 12s 25ms/step - loss: 0.0938 - accuracy: 0.9723 - val_loss: 0.1034 - val_accuracy: 0.9665\n"
          ]
        }
      ]
    },
    {
      "cell_type": "code",
      "source": [
        "# Plot training and test accuracy\n",
        "plt.plot(hist_KDL2.history['accuracy'], label='train_acc', color='C4')\n",
        "plt.plot(hist_KDL2.history['val_accuracy'], label='test_acc', color='C5')\n",
        "plt.legend()"
      ],
      "metadata": {
        "colab": {
          "base_uri": "https://localhost:8080/",
          "height": 365
        },
        "id": "Z7FkpVycpXJo",
        "outputId": "33846f49-cced-4df6-d04d-94d3cdb452c1"
      },
      "execution_count": 16,
      "outputs": [
        {
          "output_type": "execute_result",
          "data": {
            "text/plain": [
              "<matplotlib.legend.Legend at 0x7f75a55d6bd0>"
            ]
          },
          "metadata": {},
          "execution_count": 16
        },
        {
          "output_type": "display_data",
          "data": {
            "text/plain": [
              "<Figure size 576x396 with 1 Axes>"
            ],
            "image/png": "[encoded data removed]"
          },
          "metadata": {}
        }
      ]
    },
    {
      "cell_type": "code",
      "source": [
        "# Plot test accuracy comparison\n",
        "plt.plot(hist_KDL.history['val_accuracy'], label='KDL_acc', color='C1')\n",
        "plt.plot(hist_KDL2.history['val_accuracy'], label='KDL2_acc', color='C5')\n",
        "plt.plot(hist_dense.history['val_accuracy'], label='Dense_acc', color='C3')\n",
        "plt.legend()"
      ],
      "metadata": {
        "colab": {
          "base_uri": "https://localhost:8080/",
          "height": 365
        },
        "id": "uvmmwRsJnlTX",
        "outputId": "801cf5a0-4ca2-41ee-f0b5-1bf9cdfd1419"
      },
      "execution_count": 17,
      "outputs": [
        {
          "output_type": "execute_result",
          "data": {
            "text/plain": [
              "<matplotlib.legend.Legend at 0x7f75a55a87d0>"
            ]
          },
          "metadata": {},
          "execution_count": 17
        },
        {
          "output_type": "display_data",
          "data": {
            "text/plain": [
              "<Figure size 576x396 with 1 Axes>"
            ],
            "image/png": "[encoded data removed]"
          },
          "metadata": {}
        }
      ]
    }
  ],
  "metadata": {
    "kernelspec": {
      "display_name": "Python 3",
      "language": "python",
      "name": "python3"
    },
    "language_info": {
      "codemirror_mode": {
        "name": "ipython",
        "version": 3
      },
      "file_extension": ".py",
      "mimetype": "text/x-python",
      "name": "python",
      "nbconvert_exporter": "python",
      "pygments_lexer": "ipython3",
      "version": "3.7.3"
    },
    "colab": {
      "provenance": []
    }
  },
  "nbformat": 4,
  "nbformat_minor": 0
}