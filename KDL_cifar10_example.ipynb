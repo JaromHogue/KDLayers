{
  "nbformat": 4,
  "nbformat_minor": 0,
  "metadata": {
    "colab": {
      "provenance": [],
      "collapsed_sections": []
    },
    "kernelspec": {
      "name": "python3",
      "display_name": "Python 3"
    },
    "language_info": {
      "name": "python"
    }
  },
  "cells": [
    {
      "cell_type": "code",
      "execution_count": 1,
      "metadata": {
        "colab": {
          "base_uri": "https://localhost:8080/"
        },
        "id": "z6w1iIUT2-Ym",
        "outputId": "3448bd47-ead2-4d1d-f091-02e1ffdd8b8c"
      },
      "outputs": [
        {
          "output_type": "stream",
          "name": "stdout",
          "text": [
            "2.9.2\n"
          ]
        }
      ],
      "source": [
        "import tensorflow as tf  \n",
        " \n",
        "# Display the version\n",
        "print(tf.__version__)    \n",
        " \n",
        "# other imports\n",
        "import numpy as np\n",
        "import matplotlib.pyplot as plt\n",
        "from tensorflow.keras.layers import Input, Conv2D, Dense, Flatten, Dropout\n",
        "from tensorflow.keras.layers import GlobalMaxPooling2D, MaxPooling2D\n",
        "from tensorflow.keras.layers import BatchNormalization, Reshape, Add\n",
        "from tensorflow.keras.layers import Layer, Softmax, ReLU\n",
        "from tensorflow.keras.models import Model"
      ]
    },
    {
      "cell_type": "code",
      "source": [
        "class KDRightLayer(Layer):\n",
        "  def __init__(self,n,activation=None):\n",
        "    super(KDRightLayer, self).__init__()\n",
        "    self.n = n\n",
        "    self.activation = tf.keras.activations.get(activation)\n",
        "\n",
        "  def build(self, input_shape):\n",
        "    self.q = input_shape[1]\n",
        "    self.m = input_shape[2]\n",
        "    # initialize the weights\n",
        "    w_init = tf.random_normal_initializer()\n",
        "    self.w = tf.Variable(name=\"kernel\", initial_value=w_init(shape=(self.m, self.n),\n",
        "                         dtype='float32'),trainable=True)\n",
        "    # initialize the biases\n",
        "    b_init = tf.zeros_initializer()\n",
        "    self.b = tf.Variable(name=\"bias\",initial_value=b_init(shape=(self.q,self.n), dtype='float32'),\n",
        "                         trainable=True)\n",
        "\n",
        "  def call(self, inputs):\n",
        "    return self.activation(tf.matmul(inputs, self.w) + self.b)"
      ],
      "metadata": {
        "id": "qg_hTICm3KBV"
      },
      "execution_count": 2,
      "outputs": []
    },
    {
      "cell_type": "code",
      "source": [
        "class KDLeftLayer(Layer):\n",
        "  def __init__(self,m,activation=None):\n",
        "    super(KDLeftLayer, self).__init__()\n",
        "    self.m = m\n",
        "    self.activation = tf.keras.activations.get(activation)\n",
        "\n",
        "  def build(self, input_shape):\n",
        "    self.n = input_shape[1]\n",
        "    self.p = input_shape[2]\n",
        "    # initialize the weights\n",
        "    w_init = tf.random_normal_initializer()\n",
        "    self.w = tf.Variable(name=\"kernel\", initial_value=w_init(shape=(self.m, self.n),\n",
        "                                                             dtype='float32'),trainable=True)\n",
        "    # initialize the biases\n",
        "    b_init = tf.zeros_initializer()\n",
        "    self.b = tf.Variable(name=\"bias\",initial_value=b_init(shape=(self.m,self.p), \n",
        "                                                          dtype='float32'),trainable=True)\n",
        "\n",
        "  def call(self, inputs):\n",
        "    # return self.activation(tf.matmul(self.w,inputs) + self.b) # doesn't work with SGD unless batch size = 1\n",
        "    # (inputs^T * self.w^T)^T = self.w * inputs\n",
        "    return self.activation(tf.transpose(tf.matmul(tf.transpose(inputs,perm=[0, 2, 1]),\n",
        "                                                  tf.transpose(self.w)),perm=[0, 2, 1]) + self.b)"
      ],
      "metadata": {
        "id": "Q5KfFOPR3cnR"
      },
      "execution_count": 3,
      "outputs": []
    },
    {
      "cell_type": "code",
      "source": [
        "# Load cifar10\n",
        "cifar10 = tf.keras.datasets.cifar10\n",
        "\n",
        "(x_train, y_train), (x_test, y_test) = cifar10.load_data()"
      ],
      "metadata": {
        "colab": {
          "base_uri": "https://localhost:8080/"
        },
        "id": "d8sb-62E3_tR",
        "outputId": "3ceb1e0c-7875-4fc0-e354-f6592ef766d1"
      },
      "execution_count": 4,
      "outputs": [
        {
          "output_type": "stream",
          "name": "stdout",
          "text": [
            "Downloading data from https://www.cs.toronto.edu/~kriz/cifar-10-python.tar.gz\n",
            "170498071/170498071 [==============================] - 4s 0us/step\n"
          ]
        }
      ]
    },
    {
      "cell_type": "code",
      "source": [
        "# Normalize\n",
        "x_train, x_test = x_train / 255.0, x_test / 255.0\n",
        " \n",
        "# Flatten the label values\n",
        "y_train, y_test = y_train.flatten(), y_test.flatten()"
      ],
      "metadata": {
        "id": "r1IsjWIZ4b58"
      },
      "execution_count": 5,
      "outputs": []
    },
    {
      "cell_type": "code",
      "source": [
        "# Build the KDL model using the functional API\n",
        "# input layer\n",
        "i = Input(shape=x_train[0].shape)\n",
        "\n",
        "# Convolution Layers\n",
        "x = Conv2D(16, (3, 3), activation='relu', padding='same')(i)\n",
        "x = MaxPooling2D((2, 2))(x)\n",
        "\n",
        "x = Conv2D(64, (3, 3), activation='relu', padding='same')(x)\n",
        "x = MaxPooling2D((2, 2))(x)\n",
        "\n",
        "x = Conv2D(256, (3, 3), activation='relu', padding='same')(x)\n",
        "x = MaxPooling2D((2, 2))(x)\n",
        "\n",
        "# Dropout\n",
        "x = Dropout(0.2)(x)\n",
        "x = Reshape((64,64))(x)\n",
        " \n",
        "# KDL layers\n",
        "x = KDLeftLayer(64, activation='relu')(x)\n",
        "x = KDRightLayer(64, activation='relu')(x)\n",
        "\n",
        "x = KDLeftLayer(64, activation='relu')(x)\n",
        "x = KDRightLayer(64, activation='relu')(x)\n",
        " \n",
        "# Another set of KDL layers for output\n",
        "x = KDLeftLayer(2, activation='relu')(x)\n",
        "x = KDRightLayer(5)(x)\n",
        "x = Flatten()(x)\n",
        "x = Softmax()(x)\n",
        "\n",
        "# Build model\n",
        "model = Model(i, x)\n",
        " \n",
        "# Model summary\n",
        "model.summary()"
      ],
      "metadata": {
        "colab": {
          "base_uri": "https://localhost:8080/"
        },
        "id": "CHAzXU2R4u4Z",
        "outputId": "4c4a3f6a-b053-4fec-9e86-e8cee4ab8ee6"
      },
      "execution_count": 6,
      "outputs": [
        {
          "output_type": "stream",
          "name": "stdout",
          "text": [
            "Model: \"model\"\n",
            "_________________________________________________________________\n",
            " Layer (type)                Output Shape              Param #   \n",
            "=================================================================\n",
            " input_1 (InputLayer)        [(None, 32, 32, 3)]       0         \n",
            "                                                                 \n",
            " conv2d (Conv2D)             (None, 32, 32, 16)        448       \n",
            "                                                                 \n",
            " max_pooling2d (MaxPooling2D  (None, 16, 16, 16)       0         \n",
            " )                                                               \n",
            "                                                                 \n",
            " conv2d_1 (Conv2D)           (None, 16, 16, 64)        9280      \n",
            "                                                                 \n",
            " max_pooling2d_1 (MaxPooling  (None, 8, 8, 64)         0         \n",
            " 2D)                                                             \n",
            "                                                                 \n",
            " conv2d_2 (Conv2D)           (None, 8, 8, 256)         147712    \n",
            "                                                                 \n",
            " max_pooling2d_2 (MaxPooling  (None, 4, 4, 256)        0         \n",
            " 2D)                                                             \n",
            "                                                                 \n",
            " dropout (Dropout)           (None, 4, 4, 256)         0         \n",
            "                                                                 \n",
            " reshape (Reshape)           (None, 64, 64)            0         \n",
            "                                                                 \n",
            " kd_left_layer (KDLeftLayer)  (None, 64, 64)           8192      \n",
            "                                                                 \n",
            " kd_right_layer (KDRightLaye  (None, 64, 64)           8192      \n",
            " r)                                                              \n",
            "                                                                 \n",
            " kd_left_layer_1 (KDLeftLaye  (None, 64, 64)           8192      \n",
            " r)                                                              \n",
            "                                                                 \n",
            " kd_right_layer_1 (KDRightLa  (None, 64, 64)           8192      \n",
            " yer)                                                            \n",
            "                                                                 \n",
            " kd_left_layer_2 (KDLeftLaye  (None, 2, 64)            256       \n",
            " r)                                                              \n",
            "                                                                 \n",
            " kd_right_layer_2 (KDRightLa  (None, 2, 5)             330       \n",
            " yer)                                                            \n",
            "                                                                 \n",
            " flatten (Flatten)           (None, 10)                0         \n",
            "                                                                 \n",
            " softmax (Softmax)           (None, 10)                0         \n",
            "                                                                 \n",
            "=================================================================\n",
            "Total params: 190,794\n",
            "Trainable params: 190,794\n",
            "Non-trainable params: 0\n",
            "_________________________________________________________________\n"
          ]
        }
      ]
    },
    {
      "cell_type": "code",
      "source": [
        "# Compile with learning rate 0.005\n",
        "model.compile(optimizer=tf.keras.optimizers.Adam(learning_rate=1e-3),\n",
        "              loss='sparse_categorical_crossentropy',metrics=['accuracy'])"
      ],
      "metadata": {
        "id": "2GlGNYBc5yFI"
      },
      "execution_count": 7,
      "outputs": []
    },
    {
      "cell_type": "code",
      "source": [
        "# Training\n",
        "hist_KDL = model.fit(x_train, y_train, batch_size=128, validation_data=(x_test, y_test), epochs=20)"
      ],
      "metadata": {
        "colab": {
          "base_uri": "https://localhost:8080/"
        },
        "id": "1hqgm4TA7Ju_",
        "outputId": "7f37ad8c-a7f0-40b7-c5b9-0680a4e0720d"
      },
      "execution_count": 8,
      "outputs": [
        {
          "output_type": "stream",
          "name": "stdout",
          "text": [
            "Epoch 1/20\n",
            "391/391 [==============================] - 161s 408ms/step - loss: 1.9431 - accuracy: 0.2718 - val_loss: 1.6419 - val_accuracy: 0.3978\n",
            "Epoch 2/20\n",
            "391/391 [==============================] - 156s 399ms/step - loss: 1.4702 - accuracy: 0.4642 - val_loss: 1.3344 - val_accuracy: 0.5094\n",
            "Epoch 3/20\n",
            "391/391 [==============================] - 159s 407ms/step - loss: 1.2711 - accuracy: 0.5409 - val_loss: 1.1472 - val_accuracy: 0.5871\n",
            "Epoch 4/20\n",
            "391/391 [==============================] - 155s 396ms/step - loss: 1.1110 - accuracy: 0.6028 - val_loss: 1.0482 - val_accuracy: 0.6266\n",
            "Epoch 5/20\n",
            "391/391 [==============================] - 161s 413ms/step - loss: 1.0168 - accuracy: 0.6387 - val_loss: 0.9779 - val_accuracy: 0.6559\n",
            "Epoch 6/20\n",
            "391/391 [==============================] - 159s 406ms/step - loss: 0.9405 - accuracy: 0.6686 - val_loss: 0.9507 - val_accuracy: 0.6627\n",
            "Epoch 7/20\n",
            "391/391 [==============================] - 158s 404ms/step - loss: 0.8702 - accuracy: 0.6937 - val_loss: 0.9085 - val_accuracy: 0.6808\n",
            "Epoch 8/20\n",
            "391/391 [==============================] - 158s 405ms/step - loss: 0.8174 - accuracy: 0.7130 - val_loss: 0.8541 - val_accuracy: 0.6982\n",
            "Epoch 9/20\n",
            "391/391 [==============================] - 159s 406ms/step - loss: 0.7688 - accuracy: 0.7293 - val_loss: 0.8329 - val_accuracy: 0.7031\n",
            "Epoch 10/20\n",
            "391/391 [==============================] - 157s 403ms/step - loss: 0.7240 - accuracy: 0.7463 - val_loss: 0.7998 - val_accuracy: 0.7170\n",
            "Epoch 11/20\n",
            "391/391 [==============================] - 157s 401ms/step - loss: 0.6822 - accuracy: 0.7625 - val_loss: 0.7996 - val_accuracy: 0.7256\n",
            "Epoch 12/20\n",
            "391/391 [==============================] - 158s 405ms/step - loss: 0.6418 - accuracy: 0.7749 - val_loss: 0.7973 - val_accuracy: 0.7262\n",
            "Epoch 13/20\n",
            "391/391 [==============================] - 158s 403ms/step - loss: 0.6099 - accuracy: 0.7851 - val_loss: 0.7793 - val_accuracy: 0.7345\n",
            "Epoch 14/20\n",
            "391/391 [==============================] - 161s 412ms/step - loss: 0.5849 - accuracy: 0.7935 - val_loss: 0.7560 - val_accuracy: 0.7401\n",
            "Epoch 15/20\n",
            "391/391 [==============================] - 158s 405ms/step - loss: 0.5560 - accuracy: 0.8051 - val_loss: 0.7872 - val_accuracy: 0.7328\n",
            "Epoch 16/20\n",
            "391/391 [==============================] - 158s 404ms/step - loss: 0.5199 - accuracy: 0.8180 - val_loss: 0.7681 - val_accuracy: 0.7406\n",
            "Epoch 17/20\n",
            "391/391 [==============================] - 160s 408ms/step - loss: 0.4964 - accuracy: 0.8248 - val_loss: 0.7642 - val_accuracy: 0.7509\n",
            "Epoch 18/20\n",
            "391/391 [==============================] - 159s 406ms/step - loss: 0.4744 - accuracy: 0.8325 - val_loss: 0.7562 - val_accuracy: 0.7481\n",
            "Epoch 19/20\n",
            "391/391 [==============================] - 157s 403ms/step - loss: 0.4539 - accuracy: 0.8410 - val_loss: 0.7715 - val_accuracy: 0.7436\n",
            "Epoch 20/20\n",
            "391/391 [==============================] - 157s 401ms/step - loss: 0.4276 - accuracy: 0.8485 - val_loss: 0.8160 - val_accuracy: 0.7406\n"
          ]
        }
      ]
    },
    {
      "cell_type": "code",
      "source": [
        "# Plot training and test accuracy\n",
        "plt.style.use('seaborn')\n",
        "plt.plot(hist_KDL.history['accuracy'], label='train_acc', color='C0')\n",
        "plt.plot(hist_KDL.history['val_accuracy'], label='test_acc', color='C1')\n",
        "plt.legend()"
      ],
      "metadata": {
        "colab": {
          "base_uri": "https://localhost:8080/",
          "height": 365
        },
        "id": "ASVkUaSD7j-z",
        "outputId": "b0dd4e0e-5dbc-4576-ad9b-fd8d5cb9c7eb"
      },
      "execution_count": 9,
      "outputs": [
        {
          "output_type": "execute_result",
          "data": {
            "text/plain": [
              "<matplotlib.legend.Legend at 0x7f2f9c3cc990>"
            ]
          },
          "metadata": {},
          "execution_count": 9
        },
        {
          "output_type": "display_data",
          "data": {
            "text/plain": [
              "<Figure size 576x396 with 1 Axes>"
            ],
            "image/png": "[encoded data removed]"
          },
          "metadata": {}
        }
      ]
    },
    {
      "cell_type": "code",
      "source": [
        "# Build the dense model using the functional API\n",
        "# input layer\n",
        "i = Input(shape=x_train[0].shape)\n",
        "\n",
        "# Convolution Layer\n",
        "x = Conv2D(16, (3, 3), activation='relu', padding='same')(i)\n",
        "x = MaxPooling2D((2, 2))(x)\n",
        "\n",
        "x = Conv2D(64, (3, 3), activation='relu', padding='same')(x)\n",
        "x = MaxPooling2D((2, 2))(x)\n",
        "\n",
        "x = Conv2D(256, (3, 3), activation='relu', padding='same')(x)\n",
        "x = MaxPooling2D((2, 2))(x)\n",
        "\n",
        "# Dropout Layer\n",
        "x = Dropout(0.2)(x)\n",
        "x = Flatten()(x)\n",
        " \n",
        "# Dense layers\n",
        "x = Dense(4096, activation='relu')(x)\n",
        "\n",
        "x = Dense(4096, activation='relu')(x)\n",
        " \n",
        "# For output\n",
        "x = Dense(10, activation='softmax')(x)\n",
        "\n",
        "# Build model\n",
        "model = Model(i, x)\n",
        " \n",
        "# model summary\n",
        "model.summary()"
      ],
      "metadata": {
        "colab": {
          "base_uri": "https://localhost:8080/"
        },
        "id": "upTkSQJi8Nor",
        "outputId": "b013f8a6-ccf7-4c5d-a64b-ce2ea0961471"
      },
      "execution_count": 10,
      "outputs": [
        {
          "output_type": "stream",
          "name": "stdout",
          "text": [
            "Model: \"model_1\"\n",
            "_________________________________________________________________\n",
            " Layer (type)                Output Shape              Param #   \n",
            "=================================================================\n",
            " input_2 (InputLayer)        [(None, 32, 32, 3)]       0         \n",
            "                                                                 \n",
            " conv2d_3 (Conv2D)           (None, 32, 32, 16)        448       \n",
            "                                                                 \n",
            " max_pooling2d_3 (MaxPooling  (None, 16, 16, 16)       0         \n",
            " 2D)                                                             \n",
            "                                                                 \n",
            " conv2d_4 (Conv2D)           (None, 16, 16, 64)        9280      \n",
            "                                                                 \n",
            " max_pooling2d_4 (MaxPooling  (None, 8, 8, 64)         0         \n",
            " 2D)                                                             \n",
            "                                                                 \n",
            " conv2d_5 (Conv2D)           (None, 8, 8, 256)         147712    \n",
            "                                                                 \n",
            " max_pooling2d_5 (MaxPooling  (None, 4, 4, 256)        0         \n",
            " 2D)                                                             \n",
            "                                                                 \n",
            " dropout_1 (Dropout)         (None, 4, 4, 256)         0         \n",
            "                                                                 \n",
            " flatten_1 (Flatten)         (None, 4096)              0         \n",
            "                                                                 \n",
            " dense (Dense)               (None, 4096)              16781312  \n",
            "                                                                 \n",
            " dense_1 (Dense)             (None, 4096)              16781312  \n",
            "                                                                 \n",
            " dense_2 (Dense)             (None, 10)                40970     \n",
            "                                                                 \n",
            "=================================================================\n",
            "Total params: 33,761,034\n",
            "Trainable params: 33,761,034\n",
            "Non-trainable params: 0\n",
            "_________________________________________________________________\n"
          ]
        }
      ]
    },
    {
      "cell_type": "code",
      "source": [
        "# Compile with learning rate 0.001\n",
        "model.compile(optimizer=tf.keras.optimizers.Adam(learning_rate=1e-3),\n",
        "              loss='sparse_categorical_crossentropy',metrics=['accuracy'])"
      ],
      "metadata": {
        "id": "asVch-Hc8rGr"
      },
      "execution_count": 11,
      "outputs": []
    },
    {
      "cell_type": "code",
      "source": [
        "hist_dense = model.fit(\n",
        "  x_train, y_train, batch_size=128, validation_data=(x_test, y_test), epochs=20)"
      ],
      "metadata": {
        "colab": {
          "base_uri": "https://localhost:8080/"
        },
        "id": "UWFFDOzK8-zd",
        "outputId": "ee1e97f9-0d41-4ef3-b19b-05b238ceb136"
      },
      "execution_count": 12,
      "outputs": [
        {
          "output_type": "stream",
          "name": "stdout",
          "text": [
            "Epoch 1/20\n",
            "391/391 [==============================] - 575s 1s/step - loss: 1.5557 - accuracy: 0.4280 - val_loss: 1.3141 - val_accuracy: 0.5125\n",
            "Epoch 2/20\n",
            "391/391 [==============================] - 585s 1s/step - loss: 1.0860 - accuracy: 0.6095 - val_loss: 0.9313 - val_accuracy: 0.6714\n",
            "Epoch 3/20\n",
            "391/391 [==============================] - 583s 1s/step - loss: 0.8867 - accuracy: 0.6879 - val_loss: 0.8966 - val_accuracy: 0.6834\n",
            "Epoch 4/20\n",
            "391/391 [==============================] - 588s 2s/step - loss: 0.7523 - accuracy: 0.7350 - val_loss: 0.8148 - val_accuracy: 0.7151\n",
            "Epoch 5/20\n",
            "391/391 [==============================] - 585s 1s/step - loss: 0.6326 - accuracy: 0.7773 - val_loss: 0.7705 - val_accuracy: 0.7347\n",
            "Epoch 6/20\n",
            "391/391 [==============================] - 581s 1s/step - loss: 0.5331 - accuracy: 0.8108 - val_loss: 0.7344 - val_accuracy: 0.7522\n",
            "Epoch 7/20\n",
            "391/391 [==============================] - 577s 1s/step - loss: 0.4442 - accuracy: 0.8423 - val_loss: 0.7637 - val_accuracy: 0.7506\n",
            "Epoch 8/20\n",
            "391/391 [==============================] - 571s 1s/step - loss: 0.3529 - accuracy: 0.8759 - val_loss: 0.7631 - val_accuracy: 0.7593\n",
            "Epoch 9/20\n",
            "391/391 [==============================] - 569s 1s/step - loss: 0.2725 - accuracy: 0.9044 - val_loss: 0.8275 - val_accuracy: 0.7579\n",
            "Epoch 10/20\n",
            "391/391 [==============================] - 586s 1s/step - loss: 0.2243 - accuracy: 0.9209 - val_loss: 0.8528 - val_accuracy: 0.7617\n",
            "Epoch 11/20\n",
            "391/391 [==============================] - 576s 1s/step - loss: 0.1830 - accuracy: 0.9365 - val_loss: 0.9290 - val_accuracy: 0.7491\n",
            "Epoch 12/20\n",
            "391/391 [==============================] - 576s 1s/step - loss: 0.1621 - accuracy: 0.9433 - val_loss: 0.9954 - val_accuracy: 0.7539\n",
            "Epoch 13/20\n",
            "391/391 [==============================] - 573s 1s/step - loss: 0.1325 - accuracy: 0.9532 - val_loss: 1.0399 - val_accuracy: 0.7524\n",
            "Epoch 14/20\n",
            "391/391 [==============================] - 575s 1s/step - loss: 0.1247 - accuracy: 0.9558 - val_loss: 1.0725 - val_accuracy: 0.7581\n",
            "Epoch 15/20\n",
            "391/391 [==============================] - 566s 1s/step - loss: 0.1170 - accuracy: 0.9584 - val_loss: 1.1990 - val_accuracy: 0.7348\n",
            "Epoch 16/20\n",
            "391/391 [==============================] - 581s 1s/step - loss: 0.1002 - accuracy: 0.9656 - val_loss: 1.1292 - val_accuracy: 0.7591\n",
            "Epoch 17/20\n",
            "391/391 [==============================] - 588s 2s/step - loss: 0.1006 - accuracy: 0.9669 - val_loss: 1.1511 - val_accuracy: 0.7518\n",
            "Epoch 18/20\n",
            "391/391 [==============================] - 589s 2s/step - loss: 0.0950 - accuracy: 0.9678 - val_loss: 1.1147 - val_accuracy: 0.7577\n",
            "Epoch 19/20\n",
            "391/391 [==============================] - 591s 2s/step - loss: 0.0843 - accuracy: 0.9703 - val_loss: 1.2242 - val_accuracy: 0.7575\n",
            "Epoch 20/20\n",
            "391/391 [==============================] - 612s 2s/step - loss: 0.0866 - accuracy: 0.9705 - val_loss: 1.2262 - val_accuracy: 0.7542\n"
          ]
        }
      ]
    },
    {
      "cell_type": "code",
      "source": [
        "# Plot training and test accuracy\n",
        "plt.plot(hist_dense.history['accuracy'], label='train_acc', color='C2')\n",
        "plt.plot(hist_dense.history['val_accuracy'], label='test_acc', color='C3')\n",
        "plt.legend()"
      ],
      "metadata": {
        "colab": {
          "base_uri": "https://localhost:8080/",
          "height": 365
        },
        "id": "DHnNGU_U9ob6",
        "outputId": "fc2610b3-d02c-438a-a22a-761d2fc7babe"
      },
      "execution_count": 13,
      "outputs": [
        {
          "output_type": "execute_result",
          "data": {
            "text/plain": [
              "<matplotlib.legend.Legend at 0x7f2f99b4d890>"
            ]
          },
          "metadata": {},
          "execution_count": 13
        },
        {
          "output_type": "display_data",
          "data": {
            "text/plain": [
              "<Figure size 576x396 with 1 Axes>"
            ],
            "image/png": "[encoded data removed]"
          },
          "metadata": {}
        }
      ]
    },
    {
      "cell_type": "code",
      "source": [
        "# Build a KDL model with Kronecker rank of 4\n",
        "# input layer\n",
        "i = Input(shape=x_train[0].shape)\n",
        "\n",
        "# Convolution Layer\n",
        "x = Conv2D(16, (3, 3), activation='relu', padding='same')(i)\n",
        "x = MaxPooling2D((2, 2))(x)\n",
        "\n",
        "x = Conv2D(64, (3, 3), activation='relu', padding='same')(x)\n",
        "x = MaxPooling2D((2, 2))(x)\n",
        "\n",
        "x = Conv2D(256, (3, 3), activation='relu', padding='same')(x)\n",
        "x = MaxPooling2D((2, 2))(x)\n",
        "\n",
        "# Dropout Layer\n",
        "x = Dropout(0.2)(x)\n",
        "x = Reshape((64,64))(x)\n",
        " \n",
        "# KDL's (Kronecker rank 4)\n",
        "x1 = KDLeftLayer(64, activation='relu')(x)\n",
        "x1 = KDRightLayer(64)(x1)\n",
        "\n",
        "x2 = KDRightLayer(64, activation='relu')(x)\n",
        "x2 = KDLeftLayer(64)(x2)\n",
        "\n",
        "x3 = KDLeftLayer(64, activation='relu')(x) \n",
        "x3 = KDRightLayer(64)(x3)\n",
        "\n",
        "x4 = KDLeftLayer(64, activation='relu')(x)\n",
        "x4 = KDRightLayer(64)(x4)\n",
        " \n",
        "x = Add()([x1,x2,x3,x4]) # Combine layers before activation\n",
        "x = ReLU()(x)\n",
        "\n",
        "x1 = KDLeftLayer(64, activation='relu')(x)\n",
        "x1 = KDRightLayer(64)(x1)\n",
        "\n",
        "x2 = KDRightLayer(64, activation='relu')(x)\n",
        "x2 = KDLeftLayer(64)(x2)\n",
        "\n",
        "x3 = KDLeftLayer(64, activation='relu')(x) \n",
        "x3 = KDRightLayer(64)(x3)\n",
        "\n",
        "x4 = KDLeftLayer(64, activation='relu')(x)\n",
        "x4 = KDRightLayer(64)(x4)\n",
        " \n",
        "x = Add()([x1,x2,x3,x4]) \n",
        "x = ReLU()(x)\n",
        "\n",
        "# Another set of KDL's for output (Also Kronecker rank 4)\n",
        "x1 = KDLeftLayer(2, activation='relu')(x)\n",
        "x1 = KDRightLayer(5)(x1)\n",
        "\n",
        "x2 = KDRightLayer(5, activation='relu')(x)\n",
        "x2 = KDLeftLayer(2)(x2)\n",
        "\n",
        "x3 = KDLeftLayer(2, activation='relu')(x)\n",
        "x3 = KDRightLayer(5)(x3)\n",
        "\n",
        "x4 = KDLeftLayer(2, activation='relu')(x)\n",
        "x4 = KDRightLayer(5)(x4)\n",
        "\n",
        "x = Add()([x1,x2,x3,x4])\n",
        "x = Flatten()(x)\n",
        "x = Softmax()(x)\n",
        "model = Model(i, x)\n",
        " \n",
        "# model description\n",
        "model.summary()"
      ],
      "metadata": {
        "colab": {
          "base_uri": "https://localhost:8080/"
        },
        "id": "j2itObJZAXbz",
        "outputId": "3af79ef5-a448-4447-e8f4-1c15118ebd6b"
      },
      "execution_count": 14,
      "outputs": [
        {
          "output_type": "stream",
          "name": "stdout",
          "text": [
            "Model: \"model_2\"\n",
            "__________________________________________________________________________________________________\n",
            " Layer (type)                   Output Shape         Param #     Connected to                     \n",
            "==================================================================================================\n",
            " input_3 (InputLayer)           [(None, 32, 32, 3)]  0           []                               \n",
            "                                                                                                  \n",
            " conv2d_6 (Conv2D)              (None, 32, 32, 16)   448         ['input_3[0][0]']                \n",
            "                                                                                                  \n",
            " max_pooling2d_6 (MaxPooling2D)  (None, 16, 16, 16)  0           ['conv2d_6[0][0]']               \n",
            "                                                                                                  \n",
            " conv2d_7 (Conv2D)              (None, 16, 16, 64)   9280        ['max_pooling2d_6[0][0]']        \n",
            "                                                                                                  \n",
            " max_pooling2d_7 (MaxPooling2D)  (None, 8, 8, 64)    0           ['conv2d_7[0][0]']               \n",
            "                                                                                                  \n",
            " conv2d_8 (Conv2D)              (None, 8, 8, 256)    147712      ['max_pooling2d_7[0][0]']        \n",
            "                                                                                                  \n",
            " max_pooling2d_8 (MaxPooling2D)  (None, 4, 4, 256)   0           ['conv2d_8[0][0]']               \n",
            "                                                                                                  \n",
            " dropout_2 (Dropout)            (None, 4, 4, 256)    0           ['max_pooling2d_8[0][0]']        \n",
            "                                                                                                  \n",
            " reshape_1 (Reshape)            (None, 64, 64)       0           ['dropout_2[0][0]']              \n",
            "                                                                                                  \n",
            " kd_left_layer_3 (KDLeftLayer)  (None, 64, 64)       8192        ['reshape_1[0][0]']              \n",
            "                                                                                                  \n",
            " kd_right_layer_4 (KDRightLayer  (None, 64, 64)      8192        ['reshape_1[0][0]']              \n",
            " )                                                                                                \n",
            "                                                                                                  \n",
            " kd_left_layer_5 (KDLeftLayer)  (None, 64, 64)       8192        ['reshape_1[0][0]']              \n",
            "                                                                                                  \n",
            " kd_left_layer_6 (KDLeftLayer)  (None, 64, 64)       8192        ['reshape_1[0][0]']              \n",
            "                                                                                                  \n",
            " kd_right_layer_3 (KDRightLayer  (None, 64, 64)      8192        ['kd_left_layer_3[0][0]']        \n",
            " )                                                                                                \n",
            "                                                                                                  \n",
            " kd_left_layer_4 (KDLeftLayer)  (None, 64, 64)       8192        ['kd_right_layer_4[0][0]']       \n",
            "                                                                                                  \n",
            " kd_right_layer_5 (KDRightLayer  (None, 64, 64)      8192        ['kd_left_layer_5[0][0]']        \n",
            " )                                                                                                \n",
            "                                                                                                  \n",
            " kd_right_layer_6 (KDRightLayer  (None, 64, 64)      8192        ['kd_left_layer_6[0][0]']        \n",
            " )                                                                                                \n",
            "                                                                                                  \n",
            " add (Add)                      (None, 64, 64)       0           ['kd_right_layer_3[0][0]',       \n",
            "                                                                  'kd_left_layer_4[0][0]',        \n",
            "                                                                  'kd_right_layer_5[0][0]',       \n",
            "                                                                  'kd_right_layer_6[0][0]']       \n",
            "                                                                                                  \n",
            " re_lu (ReLU)                   (None, 64, 64)       0           ['add[0][0]']                    \n",
            "                                                                                                  \n",
            " kd_left_layer_7 (KDLeftLayer)  (None, 64, 64)       8192        ['re_lu[0][0]']                  \n",
            "                                                                                                  \n",
            " kd_right_layer_8 (KDRightLayer  (None, 64, 64)      8192        ['re_lu[0][0]']                  \n",
            " )                                                                                                \n",
            "                                                                                                  \n",
            " kd_left_layer_9 (KDLeftLayer)  (None, 64, 64)       8192        ['re_lu[0][0]']                  \n",
            "                                                                                                  \n",
            " kd_left_layer_10 (KDLeftLayer)  (None, 64, 64)      8192        ['re_lu[0][0]']                  \n",
            "                                                                                                  \n",
            " kd_right_layer_7 (KDRightLayer  (None, 64, 64)      8192        ['kd_left_layer_7[0][0]']        \n",
            " )                                                                                                \n",
            "                                                                                                  \n",
            " kd_left_layer_8 (KDLeftLayer)  (None, 64, 64)       8192        ['kd_right_layer_8[0][0]']       \n",
            "                                                                                                  \n",
            " kd_right_layer_9 (KDRightLayer  (None, 64, 64)      8192        ['kd_left_layer_9[0][0]']        \n",
            " )                                                                                                \n",
            "                                                                                                  \n",
            " kd_right_layer_10 (KDRightLaye  (None, 64, 64)      8192        ['kd_left_layer_10[0][0]']       \n",
            " r)                                                                                               \n",
            "                                                                                                  \n",
            " add_1 (Add)                    (None, 64, 64)       0           ['kd_right_layer_7[0][0]',       \n",
            "                                                                  'kd_left_layer_8[0][0]',        \n",
            "                                                                  'kd_right_layer_9[0][0]',       \n",
            "                                                                  'kd_right_layer_10[0][0]']      \n",
            "                                                                                                  \n",
            " re_lu_1 (ReLU)                 (None, 64, 64)       0           ['add_1[0][0]']                  \n",
            "                                                                                                  \n",
            " kd_left_layer_11 (KDLeftLayer)  (None, 2, 64)       256         ['re_lu_1[0][0]']                \n",
            "                                                                                                  \n",
            " kd_right_layer_12 (KDRightLaye  (None, 64, 5)       640         ['re_lu_1[0][0]']                \n",
            " r)                                                                                               \n",
            "                                                                                                  \n",
            " kd_left_layer_13 (KDLeftLayer)  (None, 2, 64)       256         ['re_lu_1[0][0]']                \n",
            "                                                                                                  \n",
            " kd_left_layer_14 (KDLeftLayer)  (None, 2, 64)       256         ['re_lu_1[0][0]']                \n",
            "                                                                                                  \n",
            " kd_right_layer_11 (KDRightLaye  (None, 2, 5)        330         ['kd_left_layer_11[0][0]']       \n",
            " r)                                                                                               \n",
            "                                                                                                  \n",
            " kd_left_layer_12 (KDLeftLayer)  (None, 2, 5)        138         ['kd_right_layer_12[0][0]']      \n",
            "                                                                                                  \n",
            " kd_right_layer_13 (KDRightLaye  (None, 2, 5)        330         ['kd_left_layer_13[0][0]']       \n",
            " r)                                                                                               \n",
            "                                                                                                  \n",
            " kd_right_layer_14 (KDRightLaye  (None, 2, 5)        330         ['kd_left_layer_14[0][0]']       \n",
            " r)                                                                                               \n",
            "                                                                                                  \n",
            " add_2 (Add)                    (None, 2, 5)         0           ['kd_right_layer_11[0][0]',      \n",
            "                                                                  'kd_left_layer_12[0][0]',       \n",
            "                                                                  'kd_right_layer_13[0][0]',      \n",
            "                                                                  'kd_right_layer_14[0][0]']      \n",
            "                                                                                                  \n",
            " flatten_2 (Flatten)            (None, 10)           0           ['add_2[0][0]']                  \n",
            "                                                                                                  \n",
            " softmax_1 (Softmax)            (None, 10)           0           ['flatten_2[0][0]']              \n",
            "                                                                                                  \n",
            "==================================================================================================\n",
            "Total params: 291,048\n",
            "Trainable params: 291,048\n",
            "Non-trainable params: 0\n",
            "__________________________________________________________________________________________________\n"
          ]
        }
      ]
    },
    {
      "cell_type": "code",
      "source": [
        "# Compile\n",
        "model.compile(optimizer=tf.keras.optimizers.Adam(learning_rate=1e-3),\n",
        "              loss='sparse_categorical_crossentropy',\n",
        "              metrics=['accuracy'])"
      ],
      "metadata": {
        "id": "a7EfX8CBBgX8"
      },
      "execution_count": 15,
      "outputs": []
    },
    {
      "cell_type": "code",
      "source": [
        "hist_KDL4 = model.fit(\n",
        "  x_train, y_train, batch_size=128, validation_data=(x_test, y_test), epochs=20)"
      ],
      "metadata": {
        "colab": {
          "base_uri": "https://localhost:8080/"
        },
        "id": "2jN5KdMRBovS",
        "outputId": "429595e4-31f9-43e2-82ca-7c45cd993b3c"
      },
      "execution_count": 16,
      "outputs": [
        {
          "output_type": "stream",
          "name": "stdout",
          "text": [
            "Epoch 1/20\n",
            "391/391 [==============================] - 218s 550ms/step - loss: 1.8207 - accuracy: 0.3270 - val_loss: 1.4929 - val_accuracy: 0.4522\n",
            "Epoch 2/20\n",
            "391/391 [==============================] - 211s 540ms/step - loss: 1.3744 - accuracy: 0.4979 - val_loss: 1.2344 - val_accuracy: 0.5602\n",
            "Epoch 3/20\n",
            "391/391 [==============================] - 204s 521ms/step - loss: 1.1733 - accuracy: 0.5769 - val_loss: 1.0991 - val_accuracy: 0.5993\n",
            "Epoch 4/20\n",
            "391/391 [==============================] - 211s 540ms/step - loss: 1.0302 - accuracy: 0.6305 - val_loss: 0.9866 - val_accuracy: 0.6479\n",
            "Epoch 5/20\n",
            "391/391 [==============================] - 210s 538ms/step - loss: 0.9297 - accuracy: 0.6683 - val_loss: 0.9613 - val_accuracy: 0.6629\n",
            "Epoch 6/20\n",
            "391/391 [==============================] - 204s 522ms/step - loss: 0.8508 - accuracy: 0.6997 - val_loss: 0.8646 - val_accuracy: 0.6905\n",
            "Epoch 7/20\n",
            "391/391 [==============================] - 211s 540ms/step - loss: 0.7850 - accuracy: 0.7236 - val_loss: 0.8434 - val_accuracy: 0.7013\n",
            "Epoch 8/20\n",
            "391/391 [==============================] - 215s 549ms/step - loss: 0.7240 - accuracy: 0.7439 - val_loss: 0.8086 - val_accuracy: 0.7189\n",
            "Epoch 9/20\n",
            "391/391 [==============================] - 211s 539ms/step - loss: 0.6812 - accuracy: 0.7595 - val_loss: 0.7913 - val_accuracy: 0.7295\n",
            "Epoch 10/20\n",
            "391/391 [==============================] - 213s 544ms/step - loss: 0.6315 - accuracy: 0.7775 - val_loss: 0.7625 - val_accuracy: 0.7420\n",
            "Epoch 11/20\n",
            "391/391 [==============================] - 209s 536ms/step - loss: 0.5941 - accuracy: 0.7904 - val_loss: 0.7530 - val_accuracy: 0.7421\n",
            "Epoch 12/20\n",
            "391/391 [==============================] - 208s 531ms/step - loss: 0.5582 - accuracy: 0.8028 - val_loss: 0.7369 - val_accuracy: 0.7496\n",
            "Epoch 13/20\n",
            "391/391 [==============================] - 208s 532ms/step - loss: 0.5221 - accuracy: 0.8124 - val_loss: 0.7309 - val_accuracy: 0.7565\n",
            "Epoch 14/20\n",
            "391/391 [==============================] - 205s 523ms/step - loss: 0.5022 - accuracy: 0.8219 - val_loss: 0.8160 - val_accuracy: 0.7379\n",
            "Epoch 15/20\n",
            "391/391 [==============================] - 205s 523ms/step - loss: 0.4590 - accuracy: 0.8399 - val_loss: 0.7539 - val_accuracy: 0.7575\n",
            "Epoch 16/20\n",
            "391/391 [==============================] - 208s 531ms/step - loss: 0.4380 - accuracy: 0.8427 - val_loss: 0.7453 - val_accuracy: 0.7582\n",
            "Epoch 17/20\n",
            "391/391 [==============================] - 208s 532ms/step - loss: 0.4136 - accuracy: 0.8533 - val_loss: 0.7693 - val_accuracy: 0.7583\n",
            "Epoch 18/20\n",
            "391/391 [==============================] - 205s 525ms/step - loss: 0.3853 - accuracy: 0.8616 - val_loss: 0.7802 - val_accuracy: 0.7543\n",
            "Epoch 19/20\n",
            "391/391 [==============================] - 207s 530ms/step - loss: 0.3601 - accuracy: 0.8713 - val_loss: 0.7608 - val_accuracy: 0.7616\n",
            "Epoch 20/20\n",
            "391/391 [==============================] - 207s 529ms/step - loss: 0.3503 - accuracy: 0.8722 - val_loss: 0.8305 - val_accuracy: 0.7530\n"
          ]
        }
      ]
    },
    {
      "cell_type": "code",
      "source": [
        "# Plot training and test accuracy\n",
        "plt.plot(hist_KDL4.history['accuracy'], label='train_acc', color='C4')\n",
        "plt.plot(hist_KDL4.history['val_accuracy'], label='test_acc', color='C5')\n",
        "plt.legend()"
      ],
      "metadata": {
        "colab": {
          "base_uri": "https://localhost:8080/",
          "height": 365
        },
        "id": "_ohSMGTYBrrg",
        "outputId": "a6f2bf60-84e2-48cc-a854-dae255eed881"
      },
      "execution_count": 17,
      "outputs": [
        {
          "output_type": "execute_result",
          "data": {
            "text/plain": [
              "<matplotlib.legend.Legend at 0x7f2f9a97ea90>"
            ]
          },
          "metadata": {},
          "execution_count": 17
        },
        {
          "output_type": "display_data",
          "data": {
            "text/plain": [
              "<Figure size 576x396 with 1 Axes>"
            ],
            "image/png": "[encoded data removed]"
          },
          "metadata": {}
        }
      ]
    },
    {
      "cell_type": "code",
      "source": [
        "# Plot test accuracy comparison\n",
        "plt.plot(hist_KDL.history['val_accuracy'], label='KDL_acc', color='C1')\n",
        "plt.plot(hist_KDL4.history['val_accuracy'], label='KDL4_acc', color='C5')\n",
        "plt.plot(hist_dense.history['val_accuracy'], label='Dense_acc', color='C3')\n",
        "plt.legend()"
      ],
      "metadata": {
        "colab": {
          "base_uri": "https://localhost:8080/",
          "height": 365
        },
        "id": "orjKqSFWLRJW",
        "outputId": "3b014100-c251-406a-bf99-b94ae44b7493"
      },
      "execution_count": 18,
      "outputs": [
        {
          "output_type": "execute_result",
          "data": {
            "text/plain": [
              "<matplotlib.legend.Legend at 0x7f2f9a928cd0>"
            ]
          },
          "metadata": {},
          "execution_count": 18
        },
        {
          "output_type": "display_data",
          "data": {
            "text/plain": [
              "<Figure size 576x396 with 1 Axes>"
            ],
            "image/png": "[encoded data removed]"
          },
          "metadata": {}
        }
      ]
    }
  ]
}